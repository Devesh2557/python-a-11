{
 "cells": [
  {
   "cell_type": "code",
   "execution_count": null,
   "id": "8d0fa656-b4ac-4f7f-b82e-ea1540f5eb32",
   "metadata": {},
   "outputs": [],
   "source": [
    "#Standardization mean = 0 std = 1\n",
    "\n",
    "# Normalization min 0 max = 1\n",
    "\n",
    "#Encoding ---->\n",
    "#(a). Label --> 1-1 coolumn apply\n",
    "#(b). Ordinal ---> multiple columns apply, we can set our sub-category\n",
    "#(c). OneHot ---> Column ---> sub-category-> New_column\n",
    "#(d). get_dummies ----> Column ---> New_column + with_column_name\n",
    "\n",
    "#Function Transformer----> dataset ---> custom logic apply\n",
    "\n",
    "# Column Transformer ---> way-----> (constant, 'approach_name','column_name')\n",
    "\n",
    "# Pipeline ---> way ---> steps of process ---> output of first step will be input of second step\n",
    "\n",
    "#CCA ---->after missing data drop and before missing data drop ---> if Architecture is overlap -->\n",
    "# we can drop the missing data\n",
    "\n",
    "# Outliers---->check--->boxplot , handle--->trimming , capping ."
   ]
  },
  {
   "cell_type": "code",
   "execution_count": null,
   "id": "b0e28a67-e4d2-46d8-882b-8845b1223df9",
   "metadata": {},
   "outputs": [],
   "source": []
  }
 ],
 "metadata": {
  "kernelspec": {
   "display_name": "Python [conda env:base] *",
   "language": "python",
   "name": "conda-base-py"
  },
  "language_info": {
   "codemirror_mode": {
    "name": "ipython",
    "version": 3
   },
   "file_extension": ".py",
   "mimetype": "text/x-python",
   "name": "python",
   "nbconvert_exporter": "python",
   "pygments_lexer": "ipython3",
   "version": "3.12.7"
  }
 },
 "nbformat": 4,
 "nbformat_minor": 5
}
